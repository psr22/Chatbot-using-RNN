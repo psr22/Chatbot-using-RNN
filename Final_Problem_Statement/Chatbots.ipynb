{
 "cells": [
  {
   "cell_type": "markdown",
   "metadata": {},
   "source": [
    "# Deep Learning Question & Answer Bot Project\n",
    "\n",
    "## Project Overview\n",
    "In this project, we implement a chatbot that can answer questions based on a \"story\" given to the bot.\n",
    "\n",
    "We are using a subset of the BaBi dataset released by Facebook research. https://research.fb.com/downloads/babi.\n",
    "There are 10,000 data in the training set and 1,000 data in the testing set. Each data in the training/testing set consists of 3 components:\n",
    "> - Story - consists of single or multiple sentences\n",
    "> - Question - single sentence query related to the story\n",
    "> - Answer - \"yes\" or \"no\" answer to the question\n",
    "\n",
    "The model for our chatbot is a RNN network with attention mechanism. It includes the following layers: Embedding, LSTM, Dropout, Dense and Activation. The design of the model pretty much follows the idea in the paper \"End-to-End Memory Networks\": https://arxiv.org/pdf/1503.08895.pdf. \n",
    "\n",
    "Our model achieved pretty high accuary on training/testing set and performs really good on run time generated data."
   ]
  },
  {
   "cell_type": "markdown",
   "metadata": {},
   "source": [
    "## Data Preprocessing"
   ]
  },
  {
   "cell_type": "code",
   "execution_count": 1,
   "metadata": {},
   "outputs": [],
   "source": [
    "import pickle\n",
    "import numpy as np"
   ]
  },
  {
   "cell_type": "code",
   "execution_count": 2,
   "metadata": {},
   "outputs": [],
   "source": [
    "# Read as binary\n",
    "with open('train_qa.txt', 'rb') as f:\n",
    "    train_data = pickle.load(f)"
   ]
  },
  {
   "cell_type": "code",
   "execution_count": 3,
   "metadata": {},
   "outputs": [],
   "source": [
    "# Read as binary\n",
    "with open('test_qa.txt', 'rb') as f:\n",
    "    test_data = pickle.load(f)"
   ]
  },
  {
   "cell_type": "code",
   "execution_count": 4,
   "metadata": {},
   "outputs": [
    {
     "name": "stdout",
     "output_type": "stream",
     "text": [
      "<class 'list'>\n",
      "<class 'list'>\n"
     ]
    }
   ],
   "source": [
    "print(type(train_data))\n",
    "print(type(test_data))"
   ]
  },
  {
   "cell_type": "code",
   "execution_count": 5,
   "metadata": {},
   "outputs": [
    {
     "name": "stdout",
     "output_type": "stream",
     "text": [
      "Length of the train data:  10000\n",
      "Length of the test data:  1000\n"
     ]
    }
   ],
   "source": [
    "print(\"Length of the train data: \", len(train_data))\n",
    "print(\"Length of the test data: \", len(test_data))"
   ]
  },
  {
   "cell_type": "code",
   "execution_count": 6,
   "metadata": {},
   "outputs": [
    {
     "data": {
      "text/plain": [
       "[(['Mary',\n",
       "   'moved',\n",
       "   'to',\n",
       "   'the',\n",
       "   'bathroom',\n",
       "   '.',\n",
       "   'Sandra',\n",
       "   'journeyed',\n",
       "   'to',\n",
       "   'the',\n",
       "   'bedroom',\n",
       "   '.'],\n",
       "  ['Is', 'Sandra', 'in', 'the', 'hallway', '?'],\n",
       "  'no'),\n",
       " (['Mary',\n",
       "   'moved',\n",
       "   'to',\n",
       "   'the',\n",
       "   'bathroom',\n",
       "   '.',\n",
       "   'Sandra',\n",
       "   'journeyed',\n",
       "   'to',\n",
       "   'the',\n",
       "   'bedroom',\n",
       "   '.',\n",
       "   'Mary',\n",
       "   'went',\n",
       "   'back',\n",
       "   'to',\n",
       "   'the',\n",
       "   'bedroom',\n",
       "   '.',\n",
       "   'Daniel',\n",
       "   'went',\n",
       "   'back',\n",
       "   'to',\n",
       "   'the',\n",
       "   'hallway',\n",
       "   '.'],\n",
       "  ['Is', 'Daniel', 'in', 'the', 'bathroom', '?'],\n",
       "  'no')]"
      ]
     },
     "execution_count": 6,
     "metadata": {},
     "output_type": "execute_result"
    }
   ],
   "source": [
    "train_data[:2]"
   ]
  },
  {
   "cell_type": "code",
   "execution_count": 7,
   "metadata": {},
   "outputs": [
    {
     "data": {
      "text/plain": [
       "(['Mary',\n",
       "  'moved',\n",
       "  'to',\n",
       "  'the',\n",
       "  'bathroom',\n",
       "  '.',\n",
       "  'Sandra',\n",
       "  'journeyed',\n",
       "  'to',\n",
       "  'the',\n",
       "  'bedroom',\n",
       "  '.'],\n",
       " ['Is', 'Sandra', 'in', 'the', 'hallway', '?'],\n",
       " 'no')"
      ]
     },
     "execution_count": 7,
     "metadata": {},
     "output_type": "execute_result"
    }
   ],
   "source": [
    "# Train_data is a list of tuples consist of 3 parts: story, question, answer.\n",
    "train_data[0]"
   ]
  },
  {
   "cell_type": "code",
   "execution_count": 8,
   "metadata": {},
   "outputs": [
    {
     "data": {
      "text/plain": [
       "'Mary moved to the bathroom . Sandra journeyed to the bedroom .'"
      ]
     },
     "execution_count": 8,
     "metadata": {},
     "output_type": "execute_result"
    }
   ],
   "source": [
    "' '.join(train_data[0][0])"
   ]
  },
  {
   "cell_type": "code",
   "execution_count": 9,
   "metadata": {},
   "outputs": [
    {
     "data": {
      "text/plain": [
       "'Is Sandra in the hallway ?'"
      ]
     },
     "execution_count": 9,
     "metadata": {},
     "output_type": "execute_result"
    }
   ],
   "source": [
    "' '.join(train_data[0][1])"
   ]
  },
  {
   "cell_type": "code",
   "execution_count": 10,
   "metadata": {},
   "outputs": [
    {
     "data": {
      "text/plain": [
       "'no'"
      ]
     },
     "execution_count": 10,
     "metadata": {},
     "output_type": "execute_result"
    }
   ],
   "source": [
    "train_data[0][2]"
   ]
  },
  {
   "cell_type": "code",
   "execution_count": 11,
   "metadata": {},
   "outputs": [],
   "source": [
    "all_data = test_data + train_data"
   ]
  },
  {
   "cell_type": "code",
   "execution_count": 12,
   "metadata": {},
   "outputs": [
    {
     "data": {
      "text/plain": [
       "11000"
      ]
     },
     "execution_count": 12,
     "metadata": {},
     "output_type": "execute_result"
    }
   ],
   "source": [
    "len(all_data)"
   ]
  },
  {
   "cell_type": "code",
   "execution_count": 13,
   "metadata": {},
   "outputs": [
    {
     "data": {
      "text/plain": [
       "{'.',\n",
       " 'Mary',\n",
       " 'Sandra',\n",
       " 'bathroom',\n",
       " 'bedroom',\n",
       " 'journeyed',\n",
       " 'moved',\n",
       " 'the',\n",
       " 'to'}"
      ]
     },
     "execution_count": 13,
     "metadata": {},
     "output_type": "execute_result"
    }
   ],
   "source": [
    "set(train_data[0][0])"
   ]
  },
  {
   "cell_type": "code",
   "execution_count": 14,
   "metadata": {},
   "outputs": [],
   "source": [
    "# Build vocabulary from all stories and questions\n",
    "vocab = set()\n",
    "\n",
    "for story, question, answer in all_data:\n",
    "    vocab = vocab.union(set(story))\n",
    "    vocab = vocab.union(set(question))"
   ]
  },
  {
   "cell_type": "code",
   "execution_count": 15,
   "metadata": {},
   "outputs": [],
   "source": [
    "vocab.add('no')"
   ]
  },
  {
   "cell_type": "code",
   "execution_count": 16,
   "metadata": {},
   "outputs": [],
   "source": [
    "vocab.add('yes')"
   ]
  },
  {
   "cell_type": "code",
   "execution_count": 17,
   "metadata": {},
   "outputs": [
    {
     "data": {
      "text/plain": [
       "{'.',\n",
       " '?',\n",
       " 'Daniel',\n",
       " 'Is',\n",
       " 'John',\n",
       " 'Mary',\n",
       " 'Sandra',\n",
       " 'apple',\n",
       " 'back',\n",
       " 'bathroom',\n",
       " 'bedroom',\n",
       " 'discarded',\n",
       " 'down',\n",
       " 'dropped',\n",
       " 'football',\n",
       " 'garden',\n",
       " 'got',\n",
       " 'grabbed',\n",
       " 'hallway',\n",
       " 'in',\n",
       " 'journeyed',\n",
       " 'kitchen',\n",
       " 'left',\n",
       " 'milk',\n",
       " 'moved',\n",
       " 'no',\n",
       " 'office',\n",
       " 'picked',\n",
       " 'put',\n",
       " 'the',\n",
       " 'there',\n",
       " 'to',\n",
       " 'took',\n",
       " 'travelled',\n",
       " 'up',\n",
       " 'went',\n",
       " 'yes'}"
      ]
     },
     "execution_count": 17,
     "metadata": {},
     "output_type": "execute_result"
    }
   ],
   "source": [
    "vocab"
   ]
  },
  {
   "cell_type": "code",
   "execution_count": 18,
   "metadata": {},
   "outputs": [
    {
     "name": "stdout",
     "output_type": "stream",
     "text": [
      "Actual length of the vocabulary:  37\n"
     ]
    }
   ],
   "source": [
    "# Add one to length of vocabulary: Keras embedding layer requires this.\n",
    "vocab_len = len(vocab) + 1\n",
    "print(\"Actual length of the vocabulary: \", vocab_len-1)"
   ]
  },
  {
   "cell_type": "code",
   "execution_count": 19,
   "metadata": {},
   "outputs": [],
   "source": [
    "# Length of all the stories\n",
    "all_story_len = [len(data[0]) for data in all_data]"
   ]
  },
  {
   "cell_type": "code",
   "execution_count": 20,
   "metadata": {},
   "outputs": [],
   "source": [
    "# Get maximum of the stories\n",
    "max_story_len = max(all_story_len)"
   ]
  },
  {
   "cell_type": "code",
   "execution_count": 21,
   "metadata": {},
   "outputs": [],
   "source": [
    "max_question_len = max([len(data[1]) for data in all_data])"
   ]
  },
  {
   "cell_type": "code",
   "execution_count": 22,
   "metadata": {},
   "outputs": [
    {
     "name": "stdout",
     "output_type": "stream",
     "text": [
      "Maximum length of the stories:  156\n",
      "Maximum length of the question:  6\n"
     ]
    }
   ],
   "source": [
    "print(\"Maximum length of the stories: \", max_story_len)\n",
    "print(\"Maximum length of the question: \", max_question_len)"
   ]
  },
  {
   "cell_type": "code",
   "execution_count": 23,
   "metadata": {},
   "outputs": [
    {
     "name": "stderr",
     "output_type": "stream",
     "text": [
      "Using TensorFlow backend.\n"
     ]
    }
   ],
   "source": [
    "from keras.preprocessing.sequence import pad_sequences\n",
    "from keras.preprocessing.text import Tokenizer"
   ]
  },
  {
   "cell_type": "code",
   "execution_count": 24,
   "metadata": {},
   "outputs": [],
   "source": [
    "tokenizer = Tokenizer(filters=[])\n",
    "tokenizer.fit_on_texts(vocab)"
   ]
  },
  {
   "cell_type": "code",
   "execution_count": 25,
   "metadata": {},
   "outputs": [
    {
     "data": {
      "text/plain": [
       "{'back': 1,\n",
       " 'down': 2,\n",
       " '.': 3,\n",
       " 'daniel': 4,\n",
       " 'got': 5,\n",
       " 'the': 6,\n",
       " 'in': 7,\n",
       " 'put': 8,\n",
       " 'hallway': 9,\n",
       " 'apple': 10,\n",
       " '?': 11,\n",
       " 'office': 12,\n",
       " 'went': 13,\n",
       " 'yes': 14,\n",
       " 'left': 15,\n",
       " 'up': 16,\n",
       " 'john': 17,\n",
       " 'journeyed': 18,\n",
       " 'moved': 19,\n",
       " 'milk': 20,\n",
       " 'is': 21,\n",
       " 'garden': 22,\n",
       " 'picked': 23,\n",
       " 'there': 24,\n",
       " 'took': 25,\n",
       " 'football': 26,\n",
       " 'dropped': 27,\n",
       " 'mary': 28,\n",
       " 'sandra': 29,\n",
       " 'bathroom': 30,\n",
       " 'bedroom': 31,\n",
       " 'travelled': 32,\n",
       " 'kitchen': 33,\n",
       " 'discarded': 34,\n",
       " 'to': 35,\n",
       " 'grabbed': 36,\n",
       " 'no': 37}"
      ]
     },
     "execution_count": 25,
     "metadata": {},
     "output_type": "execute_result"
    }
   ],
   "source": [
    "tokenizer.word_index"
   ]
  },
  {
   "cell_type": "code",
   "execution_count": 26,
   "metadata": {},
   "outputs": [],
   "source": [
    "train_story_text = []\n",
    "train_question_text = []\n",
    "train_answers = []"
   ]
  },
  {
   "cell_type": "code",
   "execution_count": 27,
   "metadata": {},
   "outputs": [],
   "source": [
    "for story, question, answer in train_data:\n",
    "    train_story_text.append(story)\n",
    "    train_question_text.append(question)\n",
    "    train_answers.append(answer)"
   ]
  },
  {
   "cell_type": "code",
   "execution_count": 28,
   "metadata": {},
   "outputs": [
    {
     "data": {
      "text/plain": [
       "[['Mary',\n",
       "  'moved',\n",
       "  'to',\n",
       "  'the',\n",
       "  'bathroom',\n",
       "  '.',\n",
       "  'Sandra',\n",
       "  'journeyed',\n",
       "  'to',\n",
       "  'the',\n",
       "  'bedroom',\n",
       "  '.'],\n",
       " ['Mary',\n",
       "  'moved',\n",
       "  'to',\n",
       "  'the',\n",
       "  'bathroom',\n",
       "  '.',\n",
       "  'Sandra',\n",
       "  'journeyed',\n",
       "  'to',\n",
       "  'the',\n",
       "  'bedroom',\n",
       "  '.',\n",
       "  'Mary',\n",
       "  'went',\n",
       "  'back',\n",
       "  'to',\n",
       "  'the',\n",
       "  'bedroom',\n",
       "  '.',\n",
       "  'Daniel',\n",
       "  'went',\n",
       "  'back',\n",
       "  'to',\n",
       "  'the',\n",
       "  'hallway',\n",
       "  '.']]"
      ]
     },
     "execution_count": 28,
     "metadata": {},
     "output_type": "execute_result"
    }
   ],
   "source": [
    "# Train_story_text is a list of lists of words\n",
    "train_story_text[:2]"
   ]
  },
  {
   "cell_type": "code",
   "execution_count": 29,
   "metadata": {},
   "outputs": [],
   "source": [
    "train_story_seq = tokenizer.texts_to_sequences(train_story_text)"
   ]
  },
  {
   "cell_type": "code",
   "execution_count": 30,
   "metadata": {},
   "outputs": [
    {
     "name": "stdout",
     "output_type": "stream",
     "text": [
      "10000\n",
      "10000\n"
     ]
    }
   ],
   "source": [
    "print(len(train_story_seq))\n",
    "print(len(train_story_text))"
   ]
  },
  {
   "cell_type": "code",
   "execution_count": 31,
   "metadata": {},
   "outputs": [
    {
     "data": {
      "text/plain": [
       "[['Mary',\n",
       "  'moved',\n",
       "  'to',\n",
       "  'the',\n",
       "  'bathroom',\n",
       "  '.',\n",
       "  'Sandra',\n",
       "  'journeyed',\n",
       "  'to',\n",
       "  'the',\n",
       "  'bedroom',\n",
       "  '.'],\n",
       " ['Mary',\n",
       "  'moved',\n",
       "  'to',\n",
       "  'the',\n",
       "  'bathroom',\n",
       "  '.',\n",
       "  'Sandra',\n",
       "  'journeyed',\n",
       "  'to',\n",
       "  'the',\n",
       "  'bedroom',\n",
       "  '.',\n",
       "  'Mary',\n",
       "  'went',\n",
       "  'back',\n",
       "  'to',\n",
       "  'the',\n",
       "  'bedroom',\n",
       "  '.',\n",
       "  'Daniel',\n",
       "  'went',\n",
       "  'back',\n",
       "  'to',\n",
       "  'the',\n",
       "  'hallway',\n",
       "  '.']]"
      ]
     },
     "execution_count": 31,
     "metadata": {},
     "output_type": "execute_result"
    }
   ],
   "source": [
    "train_story_text[:2]"
   ]
  },
  {
   "cell_type": "code",
   "execution_count": 32,
   "metadata": {},
   "outputs": [
    {
     "data": {
      "text/plain": [
       "[[28, 19, 35, 6, 30, 3, 29, 18, 35, 6, 31, 3],\n",
       " [28,\n",
       "  19,\n",
       "  35,\n",
       "  6,\n",
       "  30,\n",
       "  3,\n",
       "  29,\n",
       "  18,\n",
       "  35,\n",
       "  6,\n",
       "  31,\n",
       "  3,\n",
       "  28,\n",
       "  13,\n",
       "  1,\n",
       "  35,\n",
       "  6,\n",
       "  31,\n",
       "  3,\n",
       "  4,\n",
       "  13,\n",
       "  1,\n",
       "  35,\n",
       "  6,\n",
       "  9,\n",
       "  3]]"
      ]
     },
     "execution_count": 32,
     "metadata": {},
     "output_type": "execute_result"
    }
   ],
   "source": [
    "train_story_seq[:2]"
   ]
  },
  {
   "cell_type": "code",
   "execution_count": 33,
   "metadata": {},
   "outputs": [],
   "source": [
    "# Create our own list of list of word indicies with padding.\n",
    "def vectorize_stories(data, word_index=tokenizer.word_index, max_story_len=max_story_len, max_question_len=max_question_len):\n",
    "    # Stories = X\n",
    "    X = []\n",
    "    \n",
    "    # Questions = Xq\n",
    "    Xq = []\n",
    "    \n",
    "    # Y Correct Answer ['yes', 'no']\n",
    "    Y = []\n",
    "    for story, query, answer in data:\n",
    "        \n",
    "        # for each story\n",
    "        # [23, 14, 15]\n",
    "        x = [word_index[word.lower()] for word in story]\n",
    "        xq = [word_index[word.lower()] for word in query]\n",
    "        \n",
    "        y = np.zeros(len(word_index)+1)\n",
    "        y[word_index[answer]] = 1\n",
    "        \n",
    "        X.append(x)   # X holds list of lists of word indices for stories.\n",
    "        Xq.append(xq) # Xq holds list of lists for word indices for questions.\n",
    "        Y.append(y) # Y holds lists of lists of (38) biniary numbers, only 1 of them is 1.\n",
    "        \n",
    "    return (pad_sequences(X, maxlen=max_story_len), pad_sequences(Xq, maxlen=max_question_len), np.array(Y))"
   ]
  },
  {
   "cell_type": "code",
   "execution_count": 34,
   "metadata": {},
   "outputs": [],
   "source": [
    "inputs_train, queries_train, answers_train = vectorize_stories(train_data)"
   ]
  },
  {
   "cell_type": "code",
   "execution_count": 35,
   "metadata": {},
   "outputs": [],
   "source": [
    "inputs_test, queries_test, answers_test = vectorize_stories(test_data)"
   ]
  },
  {
   "cell_type": "code",
   "execution_count": 36,
   "metadata": {},
   "outputs": [
    {
     "data": {
      "text/plain": [
       "array([[ 0,  0,  0, ..., 30,  5, 31],\n",
       "       [ 0,  0,  0, ..., 30, 32, 31],\n",
       "       [ 0,  0,  0, ..., 30, 32, 31],\n",
       "       ...,\n",
       "       [ 0,  0,  0, ..., 30, 23, 31],\n",
       "       [ 0,  0,  0, ..., 30, 32, 31],\n",
       "       [ 0,  0,  0, ..., 23, 26, 31]])"
      ]
     },
     "execution_count": 36,
     "metadata": {},
     "output_type": "execute_result"
    }
   ],
   "source": [
    "inputs_test"
   ]
  },
  {
   "cell_type": "code",
   "execution_count": 37,
   "metadata": {},
   "outputs": [
    {
     "data": {
      "text/plain": [
       "array([[0., 0., 0., ..., 0., 0., 0.],\n",
       "       [0., 0., 0., ..., 0., 0., 0.],\n",
       "       [0., 0., 0., ..., 0., 0., 0.],\n",
       "       ...,\n",
       "       [0., 0., 0., ..., 0., 0., 0.],\n",
       "       [0., 0., 0., ..., 0., 0., 0.],\n",
       "       [0., 0., 0., ..., 0., 0., 0.]])"
      ]
     },
     "execution_count": 37,
     "metadata": {},
     "output_type": "execute_result"
    }
   ],
   "source": [
    "answers_test"
   ]
  },
  {
   "cell_type": "code",
   "execution_count": 38,
   "metadata": {},
   "outputs": [
    {
     "data": {
      "text/plain": [
       "15"
      ]
     },
     "execution_count": 38,
     "metadata": {},
     "output_type": "execute_result"
    }
   ],
   "source": [
    "tokenizer.word_index['yes']"
   ]
  },
  {
   "cell_type": "code",
   "execution_count": 39,
   "metadata": {},
   "outputs": [
    {
     "data": {
      "text/plain": [
       "24"
      ]
     },
     "execution_count": 39,
     "metadata": {},
     "output_type": "execute_result"
    }
   ],
   "source": [
    "tokenizer.word_index['no']"
   ]
  },
  {
   "cell_type": "code",
   "execution_count": 40,
   "metadata": {},
   "outputs": [
    {
     "data": {
      "text/plain": [
       "array([  0.,   0.,   0.,   0.,   0.,   0.,   0.,   0.,   0.,   0.,   0.,\n",
       "         0.,   0.,   0.,   0., 497.,   0.,   0.,   0.,   0.,   0.,   0.,\n",
       "         0.,   0., 503.,   0.,   0.,   0.,   0.,   0.,   0.,   0.,   0.,\n",
       "         0.,   0.,   0.,   0.,   0.])"
      ]
     },
     "execution_count": 40,
     "metadata": {},
     "output_type": "execute_result"
    }
   ],
   "source": [
    "# 497 of the questions have answer 'yes', 503 of the questions have answer 'no'.\n",
    "sum(answers_test)"
   ]
  },
  {
   "cell_type": "code",
   "execution_count": 41,
   "metadata": {},
   "outputs": [],
   "source": [
    "from keras.models import Sequential, Model\n",
    "from keras.layers.embeddings import Embedding\n",
    "from keras.layers import Input, Activation, Dense, Permute, Dropout, add, dot, concatenate, LSTM"
   ]
  },
  {
   "cell_type": "markdown",
   "metadata": {},
   "source": [
    "## Algorithms and Techniques\n",
    "\n",
    "The design in this project follows the paper \"End-to-End Memory Networks\" https://arxiv.org/pdf/1503.08895.pdf\n",
    "\n",
    "Below are the detail descriptions about the algorithms and techniques used in this model (quoted from that paper):\n",
    "\n",
    "**Single Layer:**\n",
    "<img src=\"images/end_to_end_networks_descriptions.GIF\" style=\"width:500;height:500px;\">\n",
    "\n",
    "<img src=\"images/end_to_end_networks_diagram3.GIF\" style=\"width:500;height:500px;\">\n",
    "\n",
    "Source of the above figure: https://arxiv.org/pdf/1503.08895.pdf"
   ]
  },
  {
   "cell_type": "markdown",
   "metadata": {},
   "source": [
    "## Architecture of the model\n",
    "\n",
    "The architecture of the model implemented below follows the paper: The https://arxiv.org/pdf/1503.08895.pdf\n",
    "\n",
    "The layers of the model looks like:\n",
    "1. Input\n",
    "> - A. input_sequence (fits on input_train): shape = (batch_size, max_story_len))\n",
    "> - B. question (fits on queries_train: shape = (batch_size, max_query_len))\n",
    "2. Embedding\n",
    "> - A. embedding for input_encoder_m: take input from input_sequence. Output shape: (batch_size, story_maxlen, embedding_dim)\n",
    "> - B. embedding for input_encoder_c: take input from input_sequence. Output shape: (batch_size, story_maxlen, max_question_len)\n",
    "> - C. embedding for question_encoder: take input from question. Output shape: (batch_size, query_maxlen, embedding_dim)\n",
    "3. Layers after Embedding\n",
    "> - A. dot: dot input_encoded_m and question_encoded (output from 2A and 2C) along axes of embedding dimension. Output shape: (batch_size, story_maxlen, query_maxlen)\n",
    "> - B. add: add output from 3A and 2B. Output shape: (batch_size, story_maxlen, query_maxlen)\n",
    "> - C. Permute: permute 2nd and 3rd axes from output of 3B. Output shape: (batch_size, query_maxlen, story_maxlen)\n",
    "> - D. concatenate: concatenate output from 3C and 2B. Output shape: (batch_size, query_maxlen, story_maxlen+embedding_dim) \n",
    "4. LSTM (hidden_unit = 32)\n",
    "5. Dropout (rate = 0.3)\n",
    "6. Dense (output = vocab_size)\n",
    "7. Activation (activation function = 'softmax')"
   ]
  },
  {
   "cell_type": "code",
   "execution_count": 42,
   "metadata": {},
   "outputs": [],
   "source": [
    "# PLACEHOLDER shape=(max_story_len, batch_size)\n",
    "input_sequence = Input((max_story_len,))\n",
    "question = Input((max_question_len,))"
   ]
  },
  {
   "cell_type": "code",
   "execution_count": 43,
   "metadata": {},
   "outputs": [],
   "source": [
    "# vocab_len\n",
    "vocab_size = len(vocab) + 1"
   ]
  },
  {
   "cell_type": "code",
   "execution_count": 44,
   "metadata": {},
   "outputs": [],
   "source": [
    "# INPUT ENCODER M\n",
    "input_encoder_m = Sequential()\n",
    "input_encoder_m.add(Embedding(input_dim=vocab_size, output_dim=64))\n",
    "input_encoder_m.add(Dropout(0.3))\n",
    "\n",
    "# OUTPUT\n",
    "# (samples, story_maxlen, embedding_dim)"
   ]
  },
  {
   "cell_type": "code",
   "execution_count": 45,
   "metadata": {},
   "outputs": [],
   "source": [
    "# INPUT ENCODER C\n",
    "input_encoder_c = Sequential()\n",
    "input_encoder_c.add(Embedding(input_dim=vocab_size, output_dim=max_question_len))\n",
    "input_encoder_c.add(Dropout(0.3))\n",
    "\n",
    "# OUTPUT\n",
    "# (samples, story_maxlen, max_question_len)"
   ]
  },
  {
   "cell_type": "code",
   "execution_count": 46,
   "metadata": {},
   "outputs": [],
   "source": [
    "question_encoder = Sequential()\n",
    "question_encoder.add(Embedding(input_dim=vocab_size, output_dim=64, input_length=max_question_len))\n",
    "question_encoder.add(Dropout(0.3))\n",
    "\n",
    "# OUTPUT\n",
    "# (samples, query_maxlen, embedding_dim)"
   ]
  },
  {
   "cell_type": "code",
   "execution_count": 47,
   "metadata": {},
   "outputs": [],
   "source": [
    "# ENCODED <---- ENCODER(INPUT)\n",
    "input_encoded_m = input_encoder_m(input_sequence)\n",
    "input_encoded_c = input_encoder_c(input_sequence)\n",
    "question_encoded = question_encoder(question)\n",
    "\n",
    "# input_encoded_m: (batch_size, story_maxlen, embedding_dim)\n",
    "# input_encoded_c: (batch_size, story_maxlen, query_maxlen)\n",
    "# question_encoded: (batch_size, query_maxlen, embedding_dim)"
   ]
  },
  {
   "cell_type": "code",
   "execution_count": 48,
   "metadata": {},
   "outputs": [
    {
     "name": "stdout",
     "output_type": "stream",
     "text": [
      "(?, 156, 64)\n",
      "(?, 6, 64)\n"
     ]
    }
   ],
   "source": [
    "print(input_encoded_m.shape)\n",
    "print(question_encoded.shape)"
   ]
  },
  {
   "cell_type": "code",
   "execution_count": 49,
   "metadata": {},
   "outputs": [],
   "source": [
    "match = dot([input_encoded_m, question_encoded], axes=(2,2)) # why axes is (2,2) ==> dot product along the embedding dim (64 numbers dot 64 numbers)\n",
    "match = Activation('softmax')(match)\n",
    "\n",
    "# NOTE: match after dot: (batch_size, story_maxlen, query_maxlen)\n",
    "# match after Activation: (batch_size, story_maxlen, query_maxlen)"
   ]
  },
  {
   "cell_type": "markdown",
   "metadata": {},
   "source": [
    "**NOTE: match (after dot): (batch_size, story_maxlen, query_maxlen)!!!**"
   ]
  },
  {
   "cell_type": "code",
   "execution_count": 50,
   "metadata": {},
   "outputs": [],
   "source": [
    "response = add([match, input_encoded_c]) # (samples, story_maxlen, query_maxlen)\n",
    "response = Permute((2,1))(response) # (samples, query_maxlen, story_maxlen)\n",
    "\n",
    "# response after add: (batch_size, story_maxlen, query_maxlen)\n",
    "# response after Permute: (batch_size, query_maxlen, story_maxlen)"
   ]
  },
  {
   "cell_type": "markdown",
   "metadata": {},
   "source": [
    "**NOTE: response after Permute: (batch_size, query_maxlen, story_maxlen)!!!**"
   ]
  },
  {
   "cell_type": "code",
   "execution_count": 51,
   "metadata": {},
   "outputs": [],
   "source": [
    "answer = concatenate([response, question_encoded])\n",
    "\n",
    "# Note: answer: (batch_size, query_maxlen, story_maxlen+embedding_dim)"
   ]
  },
  {
   "cell_type": "code",
   "execution_count": 52,
   "metadata": {},
   "outputs": [
    {
     "data": {
      "text/plain": [
       "<tf.Tensor 'concatenate_1/concat:0' shape=(?, 6, 220) dtype=float32>"
      ]
     },
     "execution_count": 52,
     "metadata": {},
     "output_type": "execute_result"
    }
   ],
   "source": [
    "answer\n",
    "# Note: answer: (batch_size, query_maxlen, story_maxlen+embedding_dim)"
   ]
  },
  {
   "cell_type": "markdown",
   "metadata": {},
   "source": [
    "**NOTE: answer (after concatenate): (batch_size, query_maxlen, story_maxlen+embedding_dim)!!!**"
   ]
  },
  {
   "cell_type": "code",
   "execution_count": 53,
   "metadata": {},
   "outputs": [],
   "source": [
    "answer = LSTM(32)(answer) #(samples, 32)\n",
    "# answer: (batch_size, 32)"
   ]
  },
  {
   "cell_type": "code",
   "execution_count": 54,
   "metadata": {},
   "outputs": [
    {
     "name": "stdout",
     "output_type": "stream",
     "text": [
      "(?, 32)\n"
     ]
    }
   ],
   "source": [
    "print(answer.shape)"
   ]
  },
  {
   "cell_type": "code",
   "execution_count": 55,
   "metadata": {},
   "outputs": [],
   "source": [
    "answer = Dropout(0.5)(answer)\n",
    "# answer: (batch_size, 32)"
   ]
  },
  {
   "cell_type": "code",
   "execution_count": 56,
   "metadata": {},
   "outputs": [],
   "source": [
    "answer = Dense(vocab_size)(answer) # (samples, vocab_size) # YES/NO 0000\n",
    "# answer (batch_size, vocab_size)"
   ]
  },
  {
   "cell_type": "code",
   "execution_count": 57,
   "metadata": {},
   "outputs": [],
   "source": [
    "answer = Activation('softmax')(answer)\n",
    "# answer: (batch_size, vocab_size)"
   ]
  },
  {
   "cell_type": "code",
   "execution_count": 58,
   "metadata": {},
   "outputs": [
    {
     "data": {
      "text/plain": [
       "<tf.Tensor 'activation_2/Softmax:0' shape=(?, 38) dtype=float32>"
      ]
     },
     "execution_count": 58,
     "metadata": {},
     "output_type": "execute_result"
    }
   ],
   "source": [
    "answer"
   ]
  },
  {
   "cell_type": "code",
   "execution_count": 59,
   "metadata": {},
   "outputs": [],
   "source": [
    "model = Model([input_sequence, question], answer)"
   ]
  },
  {
   "cell_type": "code",
   "execution_count": 60,
   "metadata": {},
   "outputs": [],
   "source": [
    "#model.compile(optimizer='rmsprop', loss='categorical_crossentropy', metrics=['accuracy'])\n",
    "model.compile(optimizer='adam', loss='categorical_crossentropy', metrics=['accuracy'])"
   ]
  },
  {
   "cell_type": "code",
   "execution_count": 61,
   "metadata": {},
   "outputs": [
    {
     "name": "stdout",
     "output_type": "stream",
     "text": [
      "__________________________________________________________________________________________________\n",
      "Layer (type)                    Output Shape         Param #     Connected to                     \n",
      "==================================================================================================\n",
      "input_1 (InputLayer)            (None, 156)          0                                            \n",
      "__________________________________________________________________________________________________\n",
      "input_2 (InputLayer)            (None, 6)            0                                            \n",
      "__________________________________________________________________________________________________\n",
      "sequential_1 (Sequential)       multiple             2432        input_1[0][0]                    \n",
      "__________________________________________________________________________________________________\n",
      "sequential_3 (Sequential)       (None, 6, 64)        2432        input_2[0][0]                    \n",
      "__________________________________________________________________________________________________\n",
      "dot_1 (Dot)                     (None, 156, 6)       0           sequential_1[1][0]               \n",
      "                                                                 sequential_3[1][0]               \n",
      "__________________________________________________________________________________________________\n",
      "activation_1 (Activation)       (None, 156, 6)       0           dot_1[0][0]                      \n",
      "__________________________________________________________________________________________________\n",
      "sequential_2 (Sequential)       multiple             228         input_1[0][0]                    \n",
      "__________________________________________________________________________________________________\n",
      "add_1 (Add)                     (None, 156, 6)       0           activation_1[0][0]               \n",
      "                                                                 sequential_2[1][0]               \n",
      "__________________________________________________________________________________________________\n",
      "permute_1 (Permute)             (None, 6, 156)       0           add_1[0][0]                      \n",
      "__________________________________________________________________________________________________\n",
      "concatenate_1 (Concatenate)     (None, 6, 220)       0           permute_1[0][0]                  \n",
      "                                                                 sequential_3[1][0]               \n",
      "__________________________________________________________________________________________________\n",
      "lstm_1 (LSTM)                   (None, 32)           32384       concatenate_1[0][0]              \n",
      "__________________________________________________________________________________________________\n",
      "dropout_4 (Dropout)             (None, 32)           0           lstm_1[0][0]                     \n",
      "__________________________________________________________________________________________________\n",
      "dense_1 (Dense)                 (None, 38)           1254        dropout_4[0][0]                  \n",
      "__________________________________________________________________________________________________\n",
      "activation_2 (Activation)       (None, 38)           0           dense_1[0][0]                    \n",
      "==================================================================================================\n",
      "Total params: 38,730\n",
      "Trainable params: 38,730\n",
      "Non-trainable params: 0\n",
      "__________________________________________________________________________________________________\n"
     ]
    }
   ],
   "source": [
    "model.summary()"
   ]
  },
  {
   "cell_type": "code",
   "execution_count": 62,
   "metadata": {},
   "outputs": [
    {
     "name": "stdout",
     "output_type": "stream",
     "text": [
      "Train on 10000 samples, validate on 1000 samples\n",
      "Epoch 1/100\n",
      "10000/10000 [==============================] - 13s 1ms/step - loss: 1.0238 - acc: 0.4941 - val_loss: 0.7043 - val_acc: 0.4970\n",
      "Epoch 2/100\n",
      "10000/10000 [==============================] - 10s 1ms/step - loss: 0.7187 - acc: 0.5034 - val_loss: 0.6980 - val_acc: 0.5030\n",
      "Epoch 3/100\n",
      "10000/10000 [==============================] - 10s 1ms/step - loss: 0.7055 - acc: 0.4947 - val_loss: 0.6958 - val_acc: 0.4970\n",
      "Epoch 4/100\n",
      "10000/10000 [==============================] - 11s 1ms/step - loss: 0.7004 - acc: 0.4948 - val_loss: 0.6955 - val_acc: 0.4970\n",
      "Epoch 5/100\n",
      "10000/10000 [==============================] - 10s 1ms/step - loss: 0.6988 - acc: 0.4958 - val_loss: 0.6943 - val_acc: 0.4970\n",
      "Epoch 6/100\n",
      "10000/10000 [==============================] - 10s 1ms/step - loss: 0.6977 - acc: 0.5006 - val_loss: 0.6937 - val_acc: 0.5030\n",
      "Epoch 7/100\n",
      "10000/10000 [==============================] - 10s 1ms/step - loss: 0.6961 - acc: 0.5066 - val_loss: 0.6944 - val_acc: 0.4970\n",
      "Epoch 8/100\n",
      "10000/10000 [==============================] - 11s 1ms/step - loss: 0.6968 - acc: 0.4965 - val_loss: 0.6934 - val_acc: 0.5030\n",
      "Epoch 9/100\n",
      "10000/10000 [==============================] - 11s 1ms/step - loss: 0.6957 - acc: 0.5014 - val_loss: 0.6933 - val_acc: 0.4970\n",
      "Epoch 10/100\n",
      "10000/10000 [==============================] - 11s 1ms/step - loss: 0.6955 - acc: 0.5025 - val_loss: 0.6935 - val_acc: 0.4970\n",
      "Epoch 11/100\n",
      "10000/10000 [==============================] - 11s 1ms/step - loss: 0.6956 - acc: 0.5044 - val_loss: 0.6934 - val_acc: 0.5030\n",
      "Epoch 12/100\n",
      "10000/10000 [==============================] - 11s 1ms/step - loss: 0.6957 - acc: 0.4966 - val_loss: 0.6944 - val_acc: 0.4970\n",
      "Epoch 13/100\n",
      "10000/10000 [==============================] - 11s 1ms/step - loss: 0.6959 - acc: 0.4919 - val_loss: 0.6935 - val_acc: 0.4970\n",
      "Epoch 14/100\n",
      "10000/10000 [==============================] - 11s 1ms/step - loss: 0.6953 - acc: 0.4996 - val_loss: 0.6944 - val_acc: 0.4970\n",
      "Epoch 15/100\n",
      "10000/10000 [==============================] - 11s 1ms/step - loss: 0.6957 - acc: 0.4974 - val_loss: 0.6938 - val_acc: 0.5030\n",
      "Epoch 16/100\n",
      "10000/10000 [==============================] - 11s 1ms/step - loss: 0.6950 - acc: 0.4960 - val_loss: 0.6934 - val_acc: 0.4970\n",
      "Epoch 17/100\n",
      "10000/10000 [==============================] - 11s 1ms/step - loss: 0.6953 - acc: 0.5016 - val_loss: 0.6944 - val_acc: 0.4970\n",
      "Epoch 18/100\n",
      "10000/10000 [==============================] - 11s 1ms/step - loss: 0.6953 - acc: 0.4909 - val_loss: 0.6939 - val_acc: 0.5030\n",
      "Epoch 19/100\n",
      "10000/10000 [==============================] - 11s 1ms/step - loss: 0.6953 - acc: 0.5032 - val_loss: 0.6931 - val_acc: 0.5030\n",
      "Epoch 20/100\n",
      "10000/10000 [==============================] - 11s 1ms/step - loss: 0.6952 - acc: 0.4959 - val_loss: 0.6950 - val_acc: 0.5030\n",
      "Epoch 21/100\n",
      "10000/10000 [==============================] - 11s 1ms/step - loss: 0.6946 - acc: 0.5027 - val_loss: 0.6947 - val_acc: 0.4970\n",
      "Epoch 22/100\n",
      "10000/10000 [==============================] - 11s 1ms/step - loss: 0.6951 - acc: 0.4954 - val_loss: 0.6942 - val_acc: 0.4970\n",
      "Epoch 23/100\n",
      "10000/10000 [==============================] - 11s 1ms/step - loss: 0.6953 - acc: 0.4947 - val_loss: 0.6945 - val_acc: 0.5030\n",
      "Epoch 24/100\n",
      "10000/10000 [==============================] - 11s 1ms/step - loss: 0.6948 - acc: 0.4987 - val_loss: 0.6932 - val_acc: 0.5030\n",
      "Epoch 25/100\n",
      "10000/10000 [==============================] - 11s 1ms/step - loss: 0.6946 - acc: 0.5045 - val_loss: 0.6944 - val_acc: 0.4970\n",
      "Epoch 26/100\n",
      "10000/10000 [==============================] - 11s 1ms/step - loss: 0.6952 - acc: 0.4960 - val_loss: 0.6934 - val_acc: 0.5030\n",
      "Epoch 27/100\n",
      "10000/10000 [==============================] - 11s 1ms/step - loss: 0.6924 - acc: 0.5144 - val_loss: 0.6890 - val_acc: 0.5330\n",
      "Epoch 28/100\n",
      "10000/10000 [==============================] - 11s 1ms/step - loss: 0.6707 - acc: 0.5596 - val_loss: 0.6588 - val_acc: 0.5520\n",
      "Epoch 29/100\n",
      "10000/10000 [==============================] - 11s 1ms/step - loss: 0.6424 - acc: 0.6009 - val_loss: 0.6224 - val_acc: 0.6700\n",
      "Epoch 30/100\n",
      "10000/10000 [==============================] - 11s 1ms/step - loss: 0.5555 - acc: 0.7251 - val_loss: 0.4561 - val_acc: 0.7950\n",
      "Epoch 31/100\n",
      "10000/10000 [==============================] - 11s 1ms/step - loss: 0.4588 - acc: 0.8035 - val_loss: 0.4186 - val_acc: 0.8200\n",
      "Epoch 32/100\n",
      "10000/10000 [==============================] - 11s 1ms/step - loss: 0.4120 - acc: 0.8318 - val_loss: 0.3791 - val_acc: 0.8360\n",
      "Epoch 33/100\n",
      "10000/10000 [==============================] - 11s 1ms/step - loss: 0.3853 - acc: 0.8447 - val_loss: 0.3821 - val_acc: 0.8400\n",
      "Epoch 34/100\n",
      "10000/10000 [==============================] - 11s 1ms/step - loss: 0.3575 - acc: 0.8565 - val_loss: 0.3655 - val_acc: 0.8390: 0\n",
      "Epoch 35/100\n",
      "10000/10000 [==============================] - 11s 1ms/step - loss: 0.3548 - acc: 0.8563 - val_loss: 0.3638 - val_acc: 0.8360\n",
      "Epoch 36/100\n",
      "10000/10000 [==============================] - 11s 1ms/step - loss: 0.3435 - acc: 0.8585 - val_loss: 0.3618 - val_acc: 0.8370\n",
      "Epoch 37/100\n",
      "10000/10000 [==============================] - 11s 1ms/step - loss: 0.3418 - acc: 0.8581 - val_loss: 0.3572 - val_acc: 0.8350\n",
      "Epoch 38/100\n",
      "10000/10000 [==============================] - 11s 1ms/step - loss: 0.3325 - acc: 0.8605 - val_loss: 0.3604 - val_acc: 0.8310\n",
      "Epoch 39/100\n",
      "10000/10000 [==============================] - 11s 1ms/step - loss: 0.3326 - acc: 0.8617 - val_loss: 0.3494 - val_acc: 0.8410\n",
      "Epoch 40/100\n",
      "10000/10000 [==============================] - 11s 1ms/step - loss: 0.3239 - acc: 0.8641 - val_loss: 0.3535 - val_acc: 0.8440\n",
      "Epoch 41/100\n",
      "10000/10000 [==============================] - 11s 1ms/step - loss: 0.3224 - acc: 0.8651 - val_loss: 0.3616 - val_acc: 0.8320\n",
      "Epoch 42/100\n",
      "10000/10000 [==============================] - 12s 1ms/step - loss: 0.3213 - acc: 0.8641 - val_loss: 0.3570 - val_acc: 0.8410\n",
      "Epoch 43/100\n",
      "10000/10000 [==============================] - 12s 1ms/step - loss: 0.3135 - acc: 0.8672 - val_loss: 0.3502 - val_acc: 0.8410\n",
      "Epoch 44/100\n",
      "10000/10000 [==============================] - 11s 1ms/step - loss: 0.3119 - acc: 0.8663 - val_loss: 0.3456 - val_acc: 0.8380\n",
      "Epoch 45/100\n",
      "10000/10000 [==============================] - 11s 1ms/step - loss: 0.3095 - acc: 0.8638 - val_loss: 0.3495 - val_acc: 0.8380\n",
      "Epoch 46/100\n",
      "10000/10000 [==============================] - 11s 1ms/step - loss: 0.3094 - acc: 0.8664 - val_loss: 0.3513 - val_acc: 0.8460\n",
      "Epoch 47/100\n",
      "10000/10000 [==============================] - 11s 1ms/step - loss: 0.3114 - acc: 0.8660 - val_loss: 0.3448 - val_acc: 0.8350\n",
      "Epoch 48/100\n",
      "10000/10000 [==============================] - 11s 1ms/step - loss: 0.3064 - acc: 0.8687 - val_loss: 0.3482 - val_acc: 0.8420\n",
      "Epoch 49/100\n",
      "10000/10000 [==============================] - 11s 1ms/step - loss: 0.3026 - acc: 0.8682 - val_loss: 0.3431 - val_acc: 0.8440\n",
      "Epoch 50/100\n",
      "10000/10000 [==============================] - 11s 1ms/step - loss: 0.3036 - acc: 0.8662 - val_loss: 0.3461 - val_acc: 0.8380\n",
      "Epoch 51/100\n",
      "10000/10000 [==============================] - 11s 1ms/step - loss: 0.2984 - acc: 0.8703 - val_loss: 0.3477 - val_acc: 0.8470\n",
      "Epoch 52/100\n",
      "10000/10000 [==============================] - 11s 1ms/step - loss: 0.2995 - acc: 0.8700 - val_loss: 0.3614 - val_acc: 0.8360\n",
      "Epoch 53/100\n",
      "10000/10000 [==============================] - 11s 1ms/step - loss: 0.2960 - acc: 0.8686 - val_loss: 0.3494 - val_acc: 0.8410\n",
      "Epoch 54/100\n",
      "10000/10000 [==============================] - 11s 1ms/step - loss: 0.2957 - acc: 0.8693 - val_loss: 0.3474 - val_acc: 0.8450\n",
      "Epoch 55/100\n",
      "10000/10000 [==============================] - 11s 1ms/step - loss: 0.2947 - acc: 0.8687 - val_loss: 0.3557 - val_acc: 0.8340\n",
      "Epoch 56/100\n",
      "10000/10000 [==============================] - 11s 1ms/step - loss: 0.2913 - acc: 0.8710 - val_loss: 0.3585 - val_acc: 0.8390\n",
      "Epoch 57/100\n",
      "10000/10000 [==============================] - 11s 1ms/step - loss: 0.2894 - acc: 0.8743 - val_loss: 0.3544 - val_acc: 0.8410\n",
      "Epoch 58/100\n",
      "10000/10000 [==============================] - 11s 1ms/step - loss: 0.2865 - acc: 0.8709 - val_loss: 0.3402 - val_acc: 0.8400\n",
      "Epoch 59/100\n",
      "10000/10000 [==============================] - 11s 1ms/step - loss: 0.2884 - acc: 0.8708 - val_loss: 0.3528 - val_acc: 0.8460\n",
      "Epoch 60/100\n",
      "10000/10000 [==============================] - 11s 1ms/step - loss: 0.2864 - acc: 0.8747 - val_loss: 0.3391 - val_acc: 0.8470\n",
      "Epoch 61/100\n",
      "10000/10000 [==============================] - 11s 1ms/step - loss: 0.2830 - acc: 0.8773 - val_loss: 0.3456 - val_acc: 0.8410\n",
      "Epoch 62/100\n",
      "10000/10000 [==============================] - 11s 1ms/step - loss: 0.2849 - acc: 0.8736 - val_loss: 0.3427 - val_acc: 0.8370\n",
      "Epoch 63/100\n",
      "10000/10000 [==============================] - 11s 1ms/step - loss: 0.2809 - acc: 0.8748 - val_loss: 0.3516 - val_acc: 0.8450\n",
      "Epoch 64/100\n",
      "10000/10000 [==============================] - 11s 1ms/step - loss: 0.2821 - acc: 0.8743 - val_loss: 0.3462 - val_acc: 0.8350\n",
      "Epoch 65/100\n",
      "10000/10000 [==============================] - 11s 1ms/step - loss: 0.2817 - acc: 0.8748 - val_loss: 0.3496 - val_acc: 0.8380\n",
      "Epoch 66/100\n",
      "10000/10000 [==============================] - 11s 1ms/step - loss: 0.2753 - acc: 0.8785 - val_loss: 0.3552 - val_acc: 0.8340\n",
      "Epoch 67/100\n",
      "10000/10000 [==============================] - 11s 1ms/step - loss: 0.2721 - acc: 0.8794 - val_loss: 0.3506 - val_acc: 0.8440\n",
      "Epoch 68/100\n",
      "10000/10000 [==============================] - 11s 1ms/step - loss: 0.2722 - acc: 0.8785 - val_loss: 0.3564 - val_acc: 0.8420\n",
      "Epoch 69/100\n",
      "10000/10000 [==============================] - 11s 1ms/step - loss: 0.2738 - acc: 0.8772 - val_loss: 0.3595 - val_acc: 0.8400\n",
      "Epoch 70/100\n",
      "10000/10000 [==============================] - 11s 1ms/step - loss: 0.2697 - acc: 0.8785 - val_loss: 0.3516 - val_acc: 0.8460\n",
      "Epoch 71/100\n",
      "10000/10000 [==============================] - 11s 1ms/step - loss: 0.2732 - acc: 0.8796 - val_loss: 0.3624 - val_acc: 0.8430\n",
      "Epoch 72/100\n",
      "10000/10000 [==============================] - 11s 1ms/step - loss: 0.2699 - acc: 0.8804 - val_loss: 0.3558 - val_acc: 0.8400\n",
      "Epoch 73/100\n",
      "10000/10000 [==============================] - 11s 1ms/step - loss: 0.2741 - acc: 0.8774 - val_loss: 0.3554 - val_acc: 0.8380\n",
      "Epoch 74/100\n",
      "10000/10000 [==============================] - 11s 1ms/step - loss: 0.2696 - acc: 0.8795 - val_loss: 0.3619 - val_acc: 0.8310\n",
      "Epoch 75/100\n",
      "10000/10000 [==============================] - 11s 1ms/step - loss: 0.2706 - acc: 0.8799 - val_loss: 0.3594 - val_acc: 0.8370\n",
      "Epoch 76/100\n",
      "10000/10000 [==============================] - 11s 1ms/step - loss: 0.2653 - acc: 0.8834 - val_loss: 0.3638 - val_acc: 0.8330\n",
      "Epoch 77/100\n",
      "10000/10000 [==============================] - 11s 1ms/step - loss: 0.2654 - acc: 0.8834 - val_loss: 0.3882 - val_acc: 0.8330\n",
      "Epoch 78/100\n",
      "10000/10000 [==============================] - 11s 1ms/step - loss: 0.2645 - acc: 0.8787 - val_loss: 0.3655 - val_acc: 0.8370\n",
      "Epoch 79/100\n",
      "10000/10000 [==============================] - 11s 1ms/step - loss: 0.2639 - acc: 0.8817 - val_loss: 0.3605 - val_acc: 0.8310\n",
      "Epoch 80/100\n",
      "10000/10000 [==============================] - 11s 1ms/step - loss: 0.2660 - acc: 0.8815 - val_loss: 0.3527 - val_acc: 0.8370\n",
      "Epoch 81/100\n",
      "10000/10000 [==============================] - 11s 1ms/step - loss: 0.2590 - acc: 0.8822 - val_loss: 0.3585 - val_acc: 0.8390\n",
      "Epoch 82/100\n",
      "10000/10000 [==============================] - 11s 1ms/step - loss: 0.2605 - acc: 0.8826 - val_loss: 0.3804 - val_acc: 0.8430\n",
      "Epoch 83/100\n",
      "10000/10000 [==============================] - 11s 1ms/step - loss: 0.2553 - acc: 0.8864 - val_loss: 0.3778 - val_acc: 0.8400\n",
      "Epoch 84/100\n",
      "10000/10000 [==============================] - 11s 1ms/step - loss: 0.2532 - acc: 0.8910 - val_loss: 0.3765 - val_acc: 0.8370\n",
      "Epoch 85/100\n",
      "10000/10000 [==============================] - 11s 1ms/step - loss: 0.2535 - acc: 0.8875 - val_loss: 0.3870 - val_acc: 0.8280\n",
      "Epoch 86/100\n",
      "10000/10000 [==============================] - 11s 1ms/step - loss: 0.2532 - acc: 0.8852 - val_loss: 0.3685 - val_acc: 0.8440\n",
      "Epoch 87/100\n",
      "10000/10000 [==============================] - 11s 1ms/step - loss: 0.2514 - acc: 0.8885 - val_loss: 0.3845 - val_acc: 0.8440\n",
      "Epoch 88/100\n",
      "10000/10000 [==============================] - 11s 1ms/step - loss: 0.2520 - acc: 0.8847 - val_loss: 0.3862 - val_acc: 0.8370\n",
      "Epoch 89/100\n",
      "10000/10000 [==============================] - 11s 1ms/step - loss: 0.2538 - acc: 0.8858 - val_loss: 0.3740 - val_acc: 0.8370\n",
      "Epoch 90/100\n",
      "10000/10000 [==============================] - 11s 1ms/step - loss: 0.2491 - acc: 0.8887 - val_loss: 0.4224 - val_acc: 0.8240\n",
      "Epoch 91/100\n",
      "10000/10000 [==============================] - 12s 1ms/step - loss: 0.2493 - acc: 0.8878 - val_loss: 0.3895 - val_acc: 0.8370\n",
      "Epoch 92/100\n",
      "10000/10000 [==============================] - 11s 1ms/step - loss: 0.2455 - acc: 0.8871 - val_loss: 0.3925 - val_acc: 0.8390\n",
      "Epoch 93/100\n",
      "10000/10000 [==============================] - 12s 1ms/step - loss: 0.2534 - acc: 0.8863 - val_loss: 0.3845 - val_acc: 0.8420\n",
      "Epoch 94/100\n",
      "10000/10000 [==============================] - 11s 1ms/step - loss: 0.2511 - acc: 0.8871 - val_loss: 0.3668 - val_acc: 0.8380\n",
      "Epoch 95/100\n",
      "10000/10000 [==============================] - 11s 1ms/step - loss: 0.2442 - acc: 0.8913 - val_loss: 0.3719 - val_acc: 0.8390\n",
      "Epoch 96/100\n",
      "10000/10000 [==============================] - 11s 1ms/step - loss: 0.2396 - acc: 0.8932 - val_loss: 0.4043 - val_acc: 0.8390\n",
      "Epoch 97/100\n",
      "10000/10000 [==============================] - 11s 1ms/step - loss: 0.2421 - acc: 0.8932 - val_loss: 0.3698 - val_acc: 0.8460\n",
      "Epoch 98/100\n",
      "10000/10000 [==============================] - 11s 1ms/step - loss: 0.2466 - acc: 0.8909 - val_loss: 0.3918 - val_acc: 0.8330\n",
      "Epoch 99/100\n",
      "10000/10000 [==============================] - 11s 1ms/step - loss: 0.2435 - acc: 0.8893 - val_loss: 0.3989 - val_acc: 0.8400\n",
      "Epoch 100/100\n",
      "10000/10000 [==============================] - 11s 1ms/step - loss: 0.2409 - acc: 0.8933 - val_loss: 0.4011 - val_acc: 0.8410\n"
     ]
    }
   ],
   "source": [
    "#history = model.fit([inputs_train, queries_train], answers_train, batch_size=32, epochs=100, validation_data=([inputs_test, queries_test], answers_test))\n",
    "history = model.fit([inputs_train, queries_train], answers_train, batch_size=32, epochs=100, validation_data=([inputs_test, queries_test], answers_test))"
   ]
  },
  {
   "cell_type": "code",
   "execution_count": 63,
   "metadata": {},
   "outputs": [
    {
     "name": "stdout",
     "output_type": "stream",
     "text": [
      "dict_keys(['val_loss', 'val_acc', 'loss', 'acc'])\n"
     ]
    },
    {
     "data": {
      "image/png": "[encoded data removed]",
      "text/plain": [
       "<Figure size 432x288 with 1 Axes>"
      ]
     },
     "metadata": {
      "needs_background": "light"
     },
     "output_type": "display_data"
    }
   ],
   "source": [
    "import matplotlib.pyplot as plt\n",
    "%matplotlib inline\n",
    "print(history.history.keys())\n",
    "# summarize history for accuracy\n",
    "plt.plot(history.history['acc'])\n",
    "plt.plot(history.history['val_acc'])\n",
    "plt.title('model accuracy')\n",
    "plt.ylabel('accuracy')\n",
    "plt.xlabel('epoch')\n",
    "plt.legend(['train', 'test'], loc='upper left')\n",
    "plt.show()"
   ]
  },
  {
   "cell_type": "code",
   "execution_count": 64,
   "metadata": {},
   "outputs": [],
   "source": [
    "model.save('mybrandnewmodel.h5')"
   ]
  },
  {
   "cell_type": "code",
   "execution_count": 66,
   "metadata": {},
   "outputs": [],
   "source": [
    "pred_result = model.predict(([inputs_test, queries_test]))"
   ]
  },
  {
   "cell_type": "code",
   "execution_count": 67,
   "metadata": {},
   "outputs": [
    {
     "data": {
      "text/plain": [
       "(1000, 38)"
      ]
     },
     "execution_count": 67,
     "metadata": {},
     "output_type": "execute_result"
    }
   ],
   "source": [
    "pred_result.shape"
   ]
  },
  {
   "cell_type": "code",
   "execution_count": 68,
   "metadata": {},
   "outputs": [
    {
     "data": {
      "text/plain": [
       "array([2.2588785e-15, 2.9219460e-15, 2.4675469e-15, 2.6234957e-15,\n",
       "       1.8284026e-15, 2.3396153e-15, 3.5231821e-15, 2.2525454e-15,\n",
       "       1.9747961e-15, 2.5935639e-15, 3.9396256e-15, 2.2929019e-15,\n",
       "       3.2575407e-15, 3.2082487e-15, 2.8868469e-15, 8.0848877e-06,\n",
       "       2.7744221e-15, 1.8075077e-15, 4.5423239e-15, 1.4052955e-15,\n",
       "       2.8729060e-15, 2.7312419e-15, 2.1349381e-15, 3.2994621e-15,\n",
       "       9.9999189e-01, 3.5153284e-15, 1.7340312e-15, 3.3040468e-15,\n",
       "       2.3915645e-15, 2.2861070e-15, 2.9147878e-15, 3.4532324e-15,\n",
       "       2.0619327e-15, 3.3544396e-15, 2.9790081e-15, 3.3928157e-15,\n",
       "       4.2264882e-15, 2.1006688e-15], dtype=float32)"
      ]
     },
     "execution_count": 68,
     "metadata": {},
     "output_type": "execute_result"
    }
   ],
   "source": [
    "pred_result[0]"
   ]
  },
  {
   "cell_type": "code",
   "execution_count": 69,
   "metadata": {},
   "outputs": [],
   "source": [
    "index_word = {index: word for word, index in tokenizer.word_index.items()}"
   ]
  },
  {
   "cell_type": "code",
   "execution_count": 70,
   "metadata": {},
   "outputs": [
    {
     "data": {
      "text/plain": [
       "['no',\n",
       " 'no',\n",
       " 'yes',\n",
       " 'yes',\n",
       " 'no',\n",
       " 'no',\n",
       " 'no',\n",
       " 'yes',\n",
       " 'no',\n",
       " 'yes',\n",
       " 'yes',\n",
       " 'yes',\n",
       " 'no',\n",
       " 'yes',\n",
       " 'yes',\n",
       " 'yes',\n",
       " 'yes',\n",
       " 'no',\n",
       " 'no',\n",
       " 'yes',\n",
       " 'yes',\n",
       " 'no',\n",
       " 'yes',\n",
       " 'no',\n",
       " 'no',\n",
       " 'yes',\n",
       " 'yes',\n",
       " 'no',\n",
       " 'no',\n",
       " 'yes',\n",
       " 'yes',\n",
       " 'no',\n",
       " 'no',\n",
       " 'yes',\n",
       " 'yes',\n",
       " 'no',\n",
       " 'yes',\n",
       " 'yes',\n",
       " 'yes',\n",
       " 'no',\n",
       " 'yes',\n",
       " 'no',\n",
       " 'no',\n",
       " 'no',\n",
       " 'yes',\n",
       " 'yes',\n",
       " 'yes',\n",
       " 'no',\n",
       " 'yes',\n",
       " 'yes',\n",
       " 'yes',\n",
       " 'yes',\n",
       " 'yes',\n",
       " 'yes',\n",
       " 'yes',\n",
       " 'no',\n",
       " 'no',\n",
       " 'yes',\n",
       " 'no',\n",
       " 'yes',\n",
       " 'no',\n",
       " 'no',\n",
       " 'yes',\n",
       " 'yes',\n",
       " 'yes',\n",
       " 'yes',\n",
       " 'yes',\n",
       " 'yes',\n",
       " 'no',\n",
       " 'yes',\n",
       " 'no',\n",
       " 'yes',\n",
       " 'no',\n",
       " 'yes',\n",
       " 'yes',\n",
       " 'yes',\n",
       " 'yes',\n",
       " 'yes',\n",
       " 'no',\n",
       " 'yes',\n",
       " 'yes',\n",
       " 'no',\n",
       " 'yes',\n",
       " 'yes',\n",
       " 'no',\n",
       " 'no',\n",
       " 'yes',\n",
       " 'no',\n",
       " 'no',\n",
       " 'yes',\n",
       " 'yes',\n",
       " 'no',\n",
       " 'no',\n",
       " 'no',\n",
       " 'no',\n",
       " 'yes',\n",
       " 'no',\n",
       " 'yes',\n",
       " 'yes',\n",
       " 'no',\n",
       " 'no',\n",
       " 'no',\n",
       " 'yes',\n",
       " 'no',\n",
       " 'no',\n",
       " 'no',\n",
       " 'no',\n",
       " 'yes',\n",
       " 'no',\n",
       " 'yes',\n",
       " 'no',\n",
       " 'yes',\n",
       " 'no',\n",
       " 'no',\n",
       " 'yes',\n",
       " 'no',\n",
       " 'yes',\n",
       " 'yes',\n",
       " 'yes',\n",
       " 'yes',\n",
       " 'no',\n",
       " 'yes',\n",
       " 'yes',\n",
       " 'no',\n",
       " 'yes',\n",
       " 'no',\n",
       " 'yes',\n",
       " 'no',\n",
       " 'no',\n",
       " 'no',\n",
       " 'no',\n",
       " 'yes',\n",
       " 'no',\n",
       " 'yes',\n",
       " 'no',\n",
       " 'no',\n",
       " 'no',\n",
       " 'no',\n",
       " 'no',\n",
       " 'no',\n",
       " 'no',\n",
       " 'yes',\n",
       " 'no',\n",
       " 'no',\n",
       " 'yes',\n",
       " 'yes',\n",
       " 'no',\n",
       " 'yes',\n",
       " 'no',\n",
       " 'no',\n",
       " 'yes',\n",
       " 'yes',\n",
       " 'no',\n",
       " 'yes',\n",
       " 'no',\n",
       " 'no',\n",
       " 'yes',\n",
       " 'no',\n",
       " 'no',\n",
       " 'yes',\n",
       " 'yes',\n",
       " 'yes',\n",
       " 'yes',\n",
       " 'yes',\n",
       " 'yes',\n",
       " 'no',\n",
       " 'yes',\n",
       " 'no',\n",
       " 'yes',\n",
       " 'yes',\n",
       " 'yes',\n",
       " 'no',\n",
       " 'no',\n",
       " 'no',\n",
       " 'yes',\n",
       " 'yes',\n",
       " 'yes',\n",
       " 'yes',\n",
       " 'no',\n",
       " 'no',\n",
       " 'yes',\n",
       " 'yes',\n",
       " 'yes',\n",
       " 'yes',\n",
       " 'no',\n",
       " 'yes',\n",
       " 'yes',\n",
       " 'yes',\n",
       " 'yes',\n",
       " 'no',\n",
       " 'yes',\n",
       " 'yes',\n",
       " 'no',\n",
       " 'yes',\n",
       " 'yes',\n",
       " 'yes',\n",
       " 'yes',\n",
       " 'no',\n",
       " 'no',\n",
       " 'yes',\n",
       " 'yes',\n",
       " 'yes',\n",
       " 'no',\n",
       " 'yes',\n",
       " 'no',\n",
       " 'yes',\n",
       " 'yes',\n",
       " 'yes',\n",
       " 'yes',\n",
       " 'yes',\n",
       " 'yes',\n",
       " 'yes',\n",
       " 'no',\n",
       " 'no',\n",
       " 'no',\n",
       " 'no',\n",
       " 'yes',\n",
       " 'no',\n",
       " 'no',\n",
       " 'yes',\n",
       " 'yes',\n",
       " 'yes',\n",
       " 'yes',\n",
       " 'yes',\n",
       " 'no',\n",
       " 'yes',\n",
       " 'yes',\n",
       " 'no',\n",
       " 'yes',\n",
       " 'no',\n",
       " 'no',\n",
       " 'yes',\n",
       " 'no',\n",
       " 'yes',\n",
       " 'yes',\n",
       " 'yes',\n",
       " 'no',\n",
       " 'yes',\n",
       " 'yes',\n",
       " 'yes',\n",
       " 'no',\n",
       " 'no',\n",
       " 'yes',\n",
       " 'no',\n",
       " 'no',\n",
       " 'yes',\n",
       " 'yes',\n",
       " 'yes',\n",
       " 'no',\n",
       " 'yes',\n",
       " 'yes',\n",
       " 'yes',\n",
       " 'no',\n",
       " 'yes',\n",
       " 'yes',\n",
       " 'yes',\n",
       " 'yes',\n",
       " 'yes',\n",
       " 'no',\n",
       " 'yes',\n",
       " 'no',\n",
       " 'yes',\n",
       " 'yes',\n",
       " 'no',\n",
       " 'no',\n",
       " 'yes',\n",
       " 'yes',\n",
       " 'no',\n",
       " 'no',\n",
       " 'yes',\n",
       " 'yes',\n",
       " 'yes',\n",
       " 'yes',\n",
       " 'yes',\n",
       " 'yes',\n",
       " 'yes',\n",
       " 'yes',\n",
       " 'yes',\n",
       " 'no',\n",
       " 'no',\n",
       " 'yes',\n",
       " 'yes',\n",
       " 'yes',\n",
       " 'yes',\n",
       " 'yes',\n",
       " 'yes',\n",
       " 'yes',\n",
       " 'no',\n",
       " 'no',\n",
       " 'no',\n",
       " 'yes',\n",
       " 'no',\n",
       " 'yes',\n",
       " 'no',\n",
       " 'no',\n",
       " 'no',\n",
       " 'no',\n",
       " 'yes',\n",
       " 'no',\n",
       " 'yes',\n",
       " 'yes',\n",
       " 'no',\n",
       " 'yes',\n",
       " 'yes',\n",
       " 'no',\n",
       " 'yes',\n",
       " 'yes',\n",
       " 'yes',\n",
       " 'no',\n",
       " 'no',\n",
       " 'yes',\n",
       " 'yes',\n",
       " 'yes',\n",
       " 'no',\n",
       " 'yes',\n",
       " 'no',\n",
       " 'yes',\n",
       " 'yes',\n",
       " 'no',\n",
       " 'yes',\n",
       " 'yes',\n",
       " 'yes',\n",
       " 'yes',\n",
       " 'yes',\n",
       " 'no',\n",
       " 'no',\n",
       " 'no',\n",
       " 'no',\n",
       " 'no',\n",
       " 'no',\n",
       " 'yes',\n",
       " 'no',\n",
       " 'yes',\n",
       " 'yes',\n",
       " 'yes',\n",
       " 'yes',\n",
       " 'no',\n",
       " 'yes',\n",
       " 'no',\n",
       " 'no',\n",
       " 'no',\n",
       " 'yes',\n",
       " 'yes',\n",
       " 'no',\n",
       " 'yes',\n",
       " 'no',\n",
       " 'no',\n",
       " 'no',\n",
       " 'yes',\n",
       " 'no',\n",
       " 'yes',\n",
       " 'yes',\n",
       " 'yes',\n",
       " 'no',\n",
       " 'yes',\n",
       " 'no',\n",
       " 'yes',\n",
       " 'yes',\n",
       " 'no',\n",
       " 'yes',\n",
       " 'yes',\n",
       " 'no',\n",
       " 'no',\n",
       " 'yes',\n",
       " 'no',\n",
       " 'no',\n",
       " 'no',\n",
       " 'yes',\n",
       " 'no',\n",
       " 'no',\n",
       " 'no',\n",
       " 'no',\n",
       " 'yes',\n",
       " 'no',\n",
       " 'no',\n",
       " 'no',\n",
       " 'yes',\n",
       " 'no',\n",
       " 'yes',\n",
       " 'yes',\n",
       " 'yes',\n",
       " 'yes',\n",
       " 'yes',\n",
       " 'yes',\n",
       " 'yes',\n",
       " 'no',\n",
       " 'yes',\n",
       " 'no',\n",
       " 'yes',\n",
       " 'yes',\n",
       " 'no',\n",
       " 'no',\n",
       " 'no',\n",
       " 'no',\n",
       " 'no',\n",
       " 'no',\n",
       " 'yes',\n",
       " 'yes',\n",
       " 'yes',\n",
       " 'yes',\n",
       " 'yes',\n",
       " 'yes',\n",
       " 'yes',\n",
       " 'no',\n",
       " 'no',\n",
       " 'yes',\n",
       " 'yes',\n",
       " 'yes',\n",
       " 'no',\n",
       " 'no',\n",
       " 'yes',\n",
       " 'yes',\n",
       " 'no',\n",
       " 'no',\n",
       " 'yes',\n",
       " 'no',\n",
       " 'no',\n",
       " 'yes',\n",
       " 'no',\n",
       " 'yes',\n",
       " 'yes',\n",
       " 'no',\n",
       " 'yes',\n",
       " 'no',\n",
       " 'yes',\n",
       " 'no',\n",
       " 'no',\n",
       " 'no',\n",
       " 'no',\n",
       " 'no',\n",
       " 'no',\n",
       " 'yes',\n",
       " 'yes',\n",
       " 'yes',\n",
       " 'yes',\n",
       " 'yes',\n",
       " 'yes',\n",
       " 'yes',\n",
       " 'yes',\n",
       " 'yes',\n",
       " 'yes',\n",
       " 'no',\n",
       " 'yes',\n",
       " 'no',\n",
       " 'yes',\n",
       " 'no',\n",
       " 'no',\n",
       " 'no',\n",
       " 'no',\n",
       " 'no',\n",
       " 'yes',\n",
       " 'no',\n",
       " 'yes',\n",
       " 'yes',\n",
       " 'no',\n",
       " 'no',\n",
       " 'yes',\n",
       " 'no',\n",
       " 'yes',\n",
       " 'yes',\n",
       " 'no',\n",
       " 'no',\n",
       " 'yes',\n",
       " 'no',\n",
       " 'yes',\n",
       " 'yes',\n",
       " 'yes',\n",
       " 'yes',\n",
       " 'no',\n",
       " 'yes',\n",
       " 'yes',\n",
       " 'no',\n",
       " 'yes',\n",
       " 'yes',\n",
       " 'yes',\n",
       " 'yes',\n",
       " 'no',\n",
       " 'no',\n",
       " 'yes',\n",
       " 'no',\n",
       " 'yes',\n",
       " 'no',\n",
       " 'yes',\n",
       " 'no',\n",
       " 'yes',\n",
       " 'yes',\n",
       " 'yes',\n",
       " 'yes',\n",
       " 'yes',\n",
       " 'no',\n",
       " 'yes',\n",
       " 'no',\n",
       " 'yes',\n",
       " 'yes',\n",
       " 'yes',\n",
       " 'no',\n",
       " 'yes',\n",
       " 'yes',\n",
       " 'yes',\n",
       " 'no',\n",
       " 'no',\n",
       " 'yes',\n",
       " 'yes',\n",
       " 'yes',\n",
       " 'yes',\n",
       " 'yes',\n",
       " 'no',\n",
       " 'yes',\n",
       " 'yes',\n",
       " 'yes',\n",
       " 'no',\n",
       " 'no',\n",
       " 'no',\n",
       " 'yes',\n",
       " 'no',\n",
       " 'yes',\n",
       " 'no',\n",
       " 'yes',\n",
       " 'yes',\n",
       " 'yes',\n",
       " 'no',\n",
       " 'no',\n",
       " 'no',\n",
       " 'yes',\n",
       " 'yes',\n",
       " 'no',\n",
       " 'yes',\n",
       " 'no',\n",
       " 'yes',\n",
       " 'no',\n",
       " 'yes',\n",
       " 'yes',\n",
       " 'yes',\n",
       " 'yes',\n",
       " 'yes',\n",
       " 'no',\n",
       " 'yes',\n",
       " 'yes',\n",
       " 'yes',\n",
       " 'yes',\n",
       " 'no',\n",
       " 'yes',\n",
       " 'yes',\n",
       " 'yes',\n",
       " 'yes',\n",
       " 'no',\n",
       " 'no',\n",
       " 'yes',\n",
       " 'yes',\n",
       " 'yes',\n",
       " 'yes',\n",
       " 'yes',\n",
       " 'yes',\n",
       " 'yes',\n",
       " 'no',\n",
       " 'no',\n",
       " 'yes',\n",
       " 'no',\n",
       " 'yes',\n",
       " 'yes',\n",
       " 'no',\n",
       " 'no',\n",
       " 'no',\n",
       " 'yes',\n",
       " 'yes',\n",
       " 'yes',\n",
       " 'no',\n",
       " 'yes',\n",
       " 'no',\n",
       " 'yes',\n",
       " 'no',\n",
       " 'yes',\n",
       " 'no',\n",
       " 'no',\n",
       " 'no',\n",
       " 'yes',\n",
       " 'yes',\n",
       " 'yes',\n",
       " 'yes',\n",
       " 'no',\n",
       " 'no',\n",
       " 'no',\n",
       " 'yes',\n",
       " 'yes',\n",
       " 'no',\n",
       " 'yes',\n",
       " 'no',\n",
       " 'no',\n",
       " 'no',\n",
       " 'no',\n",
       " 'yes',\n",
       " 'no',\n",
       " 'yes',\n",
       " 'yes',\n",
       " 'no',\n",
       " 'yes',\n",
       " 'yes',\n",
       " 'yes',\n",
       " 'yes',\n",
       " 'no',\n",
       " 'yes',\n",
       " 'no',\n",
       " 'yes',\n",
       " 'yes',\n",
       " 'yes',\n",
       " 'yes',\n",
       " 'yes',\n",
       " 'no',\n",
       " 'yes',\n",
       " 'yes',\n",
       " 'yes',\n",
       " 'yes',\n",
       " 'no',\n",
       " 'no',\n",
       " 'no',\n",
       " 'no',\n",
       " 'yes',\n",
       " 'yes',\n",
       " 'yes',\n",
       " 'no',\n",
       " 'no',\n",
       " 'yes',\n",
       " 'no',\n",
       " 'yes',\n",
       " 'yes',\n",
       " 'yes',\n",
       " 'yes',\n",
       " 'yes',\n",
       " 'no',\n",
       " 'no',\n",
       " 'no',\n",
       " 'no',\n",
       " 'yes',\n",
       " 'yes',\n",
       " 'no',\n",
       " 'yes',\n",
       " 'no',\n",
       " 'yes',\n",
       " 'no',\n",
       " 'no',\n",
       " 'yes',\n",
       " 'yes',\n",
       " 'no',\n",
       " 'yes',\n",
       " 'no',\n",
       " 'yes',\n",
       " 'yes',\n",
       " 'yes',\n",
       " 'no',\n",
       " 'no',\n",
       " 'yes',\n",
       " 'yes',\n",
       " 'yes',\n",
       " 'yes',\n",
       " 'yes',\n",
       " 'no',\n",
       " 'yes',\n",
       " 'yes',\n",
       " 'yes',\n",
       " 'yes',\n",
       " 'no',\n",
       " 'yes',\n",
       " 'yes',\n",
       " 'yes',\n",
       " 'yes',\n",
       " 'yes',\n",
       " 'no',\n",
       " 'no',\n",
       " 'yes',\n",
       " 'no',\n",
       " 'no',\n",
       " 'no',\n",
       " 'no',\n",
       " 'no',\n",
       " 'yes',\n",
       " 'yes',\n",
       " 'no',\n",
       " 'yes',\n",
       " 'no',\n",
       " 'no',\n",
       " 'no',\n",
       " 'yes',\n",
       " 'yes',\n",
       " 'no',\n",
       " 'no',\n",
       " 'yes',\n",
       " 'yes',\n",
       " 'yes',\n",
       " 'no',\n",
       " 'yes',\n",
       " 'no',\n",
       " 'no',\n",
       " 'no',\n",
       " 'yes',\n",
       " 'no',\n",
       " 'no',\n",
       " 'yes',\n",
       " 'no',\n",
       " 'yes',\n",
       " 'no',\n",
       " 'yes',\n",
       " 'no',\n",
       " 'yes',\n",
       " 'no',\n",
       " 'yes',\n",
       " 'no',\n",
       " 'no',\n",
       " 'yes',\n",
       " 'yes',\n",
       " 'yes',\n",
       " 'yes',\n",
       " 'yes',\n",
       " 'yes',\n",
       " 'yes',\n",
       " 'yes',\n",
       " 'no',\n",
       " 'yes',\n",
       " 'yes',\n",
       " 'yes',\n",
       " 'yes',\n",
       " 'yes',\n",
       " 'yes',\n",
       " 'yes',\n",
       " 'no',\n",
       " 'yes',\n",
       " 'yes',\n",
       " 'yes',\n",
       " 'yes',\n",
       " 'yes',\n",
       " 'yes',\n",
       " 'yes',\n",
       " 'yes',\n",
       " 'yes',\n",
       " 'yes',\n",
       " 'yes',\n",
       " 'yes',\n",
       " 'yes',\n",
       " 'no',\n",
       " 'no',\n",
       " 'no',\n",
       " 'no',\n",
       " 'no',\n",
       " 'yes',\n",
       " 'no',\n",
       " 'yes',\n",
       " 'no',\n",
       " 'yes',\n",
       " 'no',\n",
       " 'yes',\n",
       " 'yes',\n",
       " 'yes',\n",
       " 'yes',\n",
       " 'yes',\n",
       " 'yes',\n",
       " 'no',\n",
       " 'yes',\n",
       " 'no',\n",
       " 'yes',\n",
       " 'yes',\n",
       " 'yes',\n",
       " 'yes',\n",
       " 'yes',\n",
       " 'yes',\n",
       " 'no',\n",
       " 'yes',\n",
       " 'no',\n",
       " 'no',\n",
       " 'no',\n",
       " 'yes',\n",
       " 'yes',\n",
       " 'no',\n",
       " 'no',\n",
       " 'yes',\n",
       " 'yes',\n",
       " 'yes',\n",
       " 'no',\n",
       " 'no',\n",
       " 'yes',\n",
       " 'no',\n",
       " 'no',\n",
       " 'no',\n",
       " 'yes',\n",
       " 'yes',\n",
       " 'yes',\n",
       " 'no',\n",
       " 'yes',\n",
       " 'yes',\n",
       " 'yes',\n",
       " 'no',\n",
       " 'no',\n",
       " 'no',\n",
       " 'yes',\n",
       " 'no',\n",
       " 'no',\n",
       " 'yes',\n",
       " 'yes',\n",
       " 'yes',\n",
       " 'yes',\n",
       " 'yes',\n",
       " 'no',\n",
       " 'yes',\n",
       " 'yes',\n",
       " 'yes',\n",
       " 'yes',\n",
       " 'no',\n",
       " 'no',\n",
       " 'yes',\n",
       " 'no',\n",
       " 'yes',\n",
       " 'no',\n",
       " 'yes',\n",
       " 'yes',\n",
       " 'yes',\n",
       " 'no',\n",
       " 'yes',\n",
       " 'no',\n",
       " 'yes',\n",
       " 'yes',\n",
       " 'yes',\n",
       " 'yes',\n",
       " 'no',\n",
       " 'no',\n",
       " 'yes',\n",
       " 'yes',\n",
       " 'no',\n",
       " 'yes',\n",
       " 'no',\n",
       " 'yes',\n",
       " 'yes',\n",
       " 'yes',\n",
       " 'yes',\n",
       " 'no',\n",
       " 'yes',\n",
       " 'no',\n",
       " 'yes',\n",
       " 'no',\n",
       " 'no',\n",
       " 'no',\n",
       " 'yes',\n",
       " 'no',\n",
       " 'no',\n",
       " 'no',\n",
       " 'no',\n",
       " 'no',\n",
       " 'no',\n",
       " 'yes',\n",
       " 'yes',\n",
       " 'no',\n",
       " 'yes',\n",
       " 'no',\n",
       " 'yes',\n",
       " 'no',\n",
       " 'yes',\n",
       " 'yes',\n",
       " 'no',\n",
       " 'no',\n",
       " 'no',\n",
       " 'yes',\n",
       " 'no',\n",
       " 'yes',\n",
       " 'no',\n",
       " 'yes',\n",
       " 'no',\n",
       " 'yes',\n",
       " 'yes',\n",
       " 'no',\n",
       " 'yes',\n",
       " 'yes',\n",
       " 'yes',\n",
       " 'no',\n",
       " 'yes',\n",
       " 'yes',\n",
       " 'yes',\n",
       " 'no',\n",
       " 'yes',\n",
       " 'no',\n",
       " 'no',\n",
       " 'yes',\n",
       " 'no',\n",
       " 'no',\n",
       " 'no',\n",
       " 'no',\n",
       " 'no',\n",
       " 'yes',\n",
       " 'yes',\n",
       " 'yes',\n",
       " 'no',\n",
       " 'no',\n",
       " 'no',\n",
       " 'yes',\n",
       " 'no',\n",
       " 'no',\n",
       " 'yes',\n",
       " 'no',\n",
       " 'no',\n",
       " 'no',\n",
       " 'no',\n",
       " 'yes',\n",
       " 'yes',\n",
       " 'yes',\n",
       " 'no',\n",
       " 'yes',\n",
       " 'yes',\n",
       " 'yes',\n",
       " 'yes',\n",
       " 'yes',\n",
       " 'no',\n",
       " 'no',\n",
       " 'yes',\n",
       " 'no',\n",
       " 'yes',\n",
       " 'no',\n",
       " 'no',\n",
       " 'yes',\n",
       " 'yes',\n",
       " 'yes',\n",
       " 'yes',\n",
       " 'no',\n",
       " 'no',\n",
       " 'no',\n",
       " 'yes',\n",
       " 'yes',\n",
       " 'yes',\n",
       " 'no',\n",
       " 'no',\n",
       " 'no',\n",
       " 'yes',\n",
       " 'yes',\n",
       " 'yes',\n",
       " 'no',\n",
       " 'yes',\n",
       " 'no',\n",
       " 'no',\n",
       " 'no',\n",
       " 'yes',\n",
       " 'yes',\n",
       " 'no',\n",
       " 'no',\n",
       " 'yes',\n",
       " 'no',\n",
       " 'yes',\n",
       " 'no',\n",
       " 'no',\n",
       " 'yes',\n",
       " 'yes',\n",
       " 'yes',\n",
       " 'yes',\n",
       " 'no',\n",
       " 'yes',\n",
       " 'yes',\n",
       " 'yes',\n",
       " 'no',\n",
       " 'yes',\n",
       " 'yes',\n",
       " 'yes',\n",
       " 'yes',\n",
       " 'no',\n",
       " 'yes',\n",
       " 'yes',\n",
       " 'yes',\n",
       " 'no',\n",
       " 'yes',\n",
       " 'yes',\n",
       " 'yes',\n",
       " 'yes',\n",
       " 'no',\n",
       " 'yes',\n",
       " 'no',\n",
       " 'yes',\n",
       " 'yes',\n",
       " 'yes',\n",
       " 'no',\n",
       " 'no',\n",
       " 'yes',\n",
       " 'no',\n",
       " 'yes',\n",
       " 'yes',\n",
       " 'yes',\n",
       " 'yes',\n",
       " 'no',\n",
       " 'no',\n",
       " 'no',\n",
       " 'no',\n",
       " 'yes',\n",
       " 'no',\n",
       " 'yes',\n",
       " 'no',\n",
       " 'yes',\n",
       " 'no',\n",
       " 'yes',\n",
       " 'yes',\n",
       " 'no',\n",
       " 'no',\n",
       " 'yes',\n",
       " 'yes',\n",
       " 'no',\n",
       " 'yes',\n",
       " 'no',\n",
       " 'yes',\n",
       " 'yes']"
      ]
     },
     "execution_count": 70,
     "metadata": {},
     "output_type": "execute_result"
    }
   ],
   "source": [
    "predictions = np.argmax(pred_result, axis=1)\n",
    "pred_answers = [index_word[pred] for pred in predictions]\n",
    "pred_answers"
   ]
  },
  {
   "cell_type": "markdown",
   "metadata": {},
   "source": [
    "## Test with a run time question."
   ]
  },
  {
   "cell_type": "code",
   "execution_count": 71,
   "metadata": {},
   "outputs": [],
   "source": [
    "my_story = \"John left the kitchen . Sandra dropped the football in the garden .\""
   ]
  },
  {
   "cell_type": "code",
   "execution_count": 72,
   "metadata": {},
   "outputs": [
    {
     "data": {
      "text/plain": [
       "['John',\n",
       " 'left',\n",
       " 'the',\n",
       " 'kitchen',\n",
       " '.',\n",
       " 'Sandra',\n",
       " 'dropped',\n",
       " 'the',\n",
       " 'football',\n",
       " 'in',\n",
       " 'the',\n",
       " 'garden',\n",
       " '.']"
      ]
     },
     "execution_count": 72,
     "metadata": {},
     "output_type": "execute_result"
    }
   ],
   "source": [
    "my_story.split()"
   ]
  },
  {
   "cell_type": "code",
   "execution_count": 73,
   "metadata": {},
   "outputs": [],
   "source": [
    "my_question = \"Is the football in the garden ?\""
   ]
  },
  {
   "cell_type": "code",
   "execution_count": 74,
   "metadata": {},
   "outputs": [
    {
     "data": {
      "text/plain": [
       "['Is', 'the', 'football', 'in', 'the', 'garden', '?']"
      ]
     },
     "execution_count": 74,
     "metadata": {},
     "output_type": "execute_result"
    }
   ],
   "source": [
    "my_question.split()"
   ]
  },
  {
   "cell_type": "code",
   "execution_count": 75,
   "metadata": {},
   "outputs": [],
   "source": [
    "# The answer should be 'yes'.\n",
    "mydata = [(my_story.split(), my_question.split(), 'yes')]"
   ]
  },
  {
   "cell_type": "code",
   "execution_count": 76,
   "metadata": {},
   "outputs": [],
   "source": [
    "my_story, my_ques, my_ans = vectorize_stories(mydata)"
   ]
  },
  {
   "cell_type": "code",
   "execution_count": 82,
   "metadata": {},
   "outputs": [],
   "source": [
    "pred_result = model.predict([my_story, my_ques])"
   ]
  },
  {
   "cell_type": "code",
   "execution_count": 83,
   "metadata": {},
   "outputs": [],
   "source": [
    "val_max = np.argmax(pred_result[0])"
   ]
  },
  {
   "cell_type": "code",
   "execution_count": 88,
   "metadata": {},
   "outputs": [],
   "source": [
    "# Get the answer corresponding to the highest predict probabilty.\n",
    "for key, val in tokenizer.word_index.items():\n",
    "    if val == val_max:\n",
    "        k = key"
   ]
  },
  {
   "cell_type": "code",
   "execution_count": 89,
   "metadata": {},
   "outputs": [
    {
     "data": {
      "text/plain": [
       "'yes'"
      ]
     },
     "execution_count": 89,
     "metadata": {},
     "output_type": "execute_result"
    }
   ],
   "source": [
    "k"
   ]
  },
  {
   "cell_type": "code",
   "execution_count": 86,
   "metadata": {},
   "outputs": [
    {
     "data": {
      "text/plain": [
       "0.95445025"
      ]
     },
     "execution_count": 86,
     "metadata": {},
     "output_type": "execute_result"
    }
   ],
   "source": [
    "# Find out what's the highest predict probability.\n",
    "pred_result[0][val_max]"
   ]
  }
 ],
 "metadata": {
  "kernelspec": {
   "display_name": "Python 3",
   "language": "python",
   "name": "python3"
  },
  "language_info": {
   "codemirror_mode": {
    "name": "ipython",
    "version": 3
   },
   "file_extension": ".py",
   "mimetype": "text/x-python",
   "name": "python",
   "nbconvert_exporter": "python",
   "pygments_lexer": "ipython3",
   "version": "3.6.8"
  }
 },
 "nbformat": 4,
 "nbformat_minor": 2
}
